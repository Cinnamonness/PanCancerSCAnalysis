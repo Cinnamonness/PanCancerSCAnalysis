{
 "cells": [
  {
   "cell_type": "code",
   "execution_count": null,
   "metadata": {},
   "outputs": [
    {
     "name": "stderr",
     "output_type": "stream",
     "text": [
      "c:\\Users\\Ivan\\AppData\\Local\\Programs\\Python\\Python312\\Lib\\site-packages\\tqdm\\auto.py:21: TqdmWarning: IProgress not found. Please update jupyter and ipywidgets. See https://ipywidgets.readthedocs.io/en/stable/user_install.html\n",
      "  from .autonotebook import tqdm as notebook_tqdm\n"
     ]
    }
   ],
   "source": [
    "import scanpy as sc\n",
    "import anndata as ad\n",
    "import pandas as pd\n",
    "import numpy as np\n",
    "\n"
   ]
  },
  {
   "cell_type": "markdown",
   "metadata": {},
   "source": [
    "### Dataset Preparation: Lung Cancer Cells from Chan et al., 2021\n",
    "This notebook processes a single-cell RNA-seq dataset from Chan et al., 2021. The goal is to extract malignant cells from primary tumor samples and reformat metadata to match the structure used in other datasets for downstream integration.\n",
    "\n",
    "https://www.cell.com/cancer-cell/fulltext/S1535-6108(21)00497-9#sec-4-5-6-2"
   ]
  },
  {
   "cell_type": "code",
   "execution_count": null,
   "metadata": {},
   "outputs": [],
   "source": [
    "# Load UMI count matrix in sparse format (default COO)\n",
    "matrix = scipy.io.mmread(\"./Data_Chan2021_Lung/Exp_data_UMIcounts.mtx\")\n",
    "\n",
    "# Load gene list\n",
    "genes = open(\"./Data_Chan2021_Lung/Genes.txt\").read().splitlines()\n",
    "\n",
    "# Load cell-level metadata\n",
    "cells_metadata = pd.read_csv(\"./Data_Chan2021_Lung/Cells.csv\", index_col=0)\n",
    "\n",
    "# Load sample-level metadata\n",
    "samples_metadata = pd.read_csv(\"./Data_Chan2021_Lung/Samples.csv\", index_col=0)\n"
   ]
  },
  {
   "cell_type": "code",
   "execution_count": null,
   "metadata": {},
   "outputs": [
    {
     "name": "stderr",
     "output_type": "stream",
     "text": [
      "c:\\Users\\Ivan\\AppData\\Local\\Programs\\Python\\Python312\\Lib\\site-packages\\anndata\\_core\\storage.py:48: FutureWarning: AnnData previously had undefined behavior around matrices of type <class 'scipy.sparse._coo.coo_matrix'>.In 0.12, passing in this type will throw an error. Please convert to a supported type.Continue using for this minor version at your own risk.\n",
      "  warnings.warn(msg, FutureWarning)\n"
     ]
    }
   ],
   "source": [
    "# Create AnnData object\n",
    "adata = sc.AnnData(X=matrix.T)\n",
    "\n",
    "# Add gene names\n",
    "adata.var_names = genes\n",
    "\n",
    "# Add cell metadata\n",
    "adata.obs = cells_metadata\n",
    "\n",
    "# Merge sample metadata based on the \"sample\" column\n",
    "adata.obs = adata.obs.merge(samples_metadata, how=\"left\", on=\"sample\")\n"
   ]
  },
  {
   "cell_type": "markdown",
   "metadata": {},
   "source": [
    " Форматы разреженных матриц в `scipy.sparse` (такие как `COO`, `CSR` и `CSC`) имеют разные преимущества и используются для разных задач. Вот краткое объяснение, когда и какой формат лучше использовать:\n",
    "\n",
    "- **Для фильтрации данных** (например, выбор подмножества клеток или генов) лучше использовать **CSR** (если фильтрация идет по строкам) или **CSC** (если фильтрация идет по столбцам).\n",
    "- **Для вычислений** (например, PCA, кластеризация или другие матричные операции) также лучше использовать **CSR** или **CSC**, так как они оптимизированы для таких задач.\n",
    "- **Для создания или загрузки данных** можно использовать **COO**, а затем преобразовать в **CSR** или **CSC** для дальнейшей работы.\n",
    "\n",
    "\n",
    "Мы загрузили данные в формате COO при сборке объекта, но надо перевести в CSR"
   ]
  },
  {
   "cell_type": "code",
   "execution_count": null,
   "metadata": {},
   "outputs": [
    {
     "name": "stdout",
     "output_type": "stream",
     "text": [
      "<class 'scipy.sparse._csr.csr_matrix'>\n"
     ]
    }
   ],
   "source": [
    "# Convert sparse matrix to CSR format for compatibility and efficiency\n",
    "adata.X = adata.X.tocsr()\n",
    "print(type(adata.X))"
   ]
  },
  {
   "cell_type": "code",
   "execution_count": null,
   "metadata": {},
   "outputs": [
    {
     "name": "stdout",
     "output_type": "stream",
     "text": [
      "0 17013\n"
     ]
    }
   ],
   "source": [
    "# Check for normalization or log-transformation (values should be raw)\n",
    "print(adata.X.min(), adata.X.max())"
   ]
  },
  {
   "cell_type": "markdown",
   "metadata": {},
   "source": [
    "We intentionally skip normalization and log-transformation at this stage,\n",
    "because raw counts are required for integration with other datasets.\n",
    "Since gene sets differ between datasets, it's preferable to merge them first\n",
    "and perform normalization afterward, once the gene space is unified."
   ]
  },
  {
   "cell_type": "code",
   "execution_count": 24,
   "metadata": {},
   "outputs": [
    {
     "data": {
      "text/html": [
       "<div>\n",
       "<style scoped>\n",
       "    .dataframe tbody tr th:only-of-type {\n",
       "        vertical-align: middle;\n",
       "    }\n",
       "\n",
       "    .dataframe tbody tr th {\n",
       "        vertical-align: top;\n",
       "    }\n",
       "\n",
       "    .dataframe thead th {\n",
       "        text-align: right;\n",
       "    }\n",
       "</style>\n",
       "<table border=\"1\" class=\"dataframe\">\n",
       "  <thead>\n",
       "    <tr style=\"text-align: right;\">\n",
       "      <th></th>\n",
       "      <th>sample</th>\n",
       "      <th>patient_x</th>\n",
       "      <th>cell_type</th>\n",
       "      <th>cell_subtype</th>\n",
       "      <th>complexity</th>\n",
       "      <th>umap1</th>\n",
       "      <th>umap2</th>\n",
       "      <th>g1s_score</th>\n",
       "      <th>g2m_score</th>\n",
       "      <th>cell_cycle_phase</th>\n",
       "      <th>...</th>\n",
       "      <th>technology</th>\n",
       "      <th>n_cells</th>\n",
       "      <th>patient_y</th>\n",
       "      <th>cancer_type</th>\n",
       "      <th>sample_type</th>\n",
       "      <th>source_y</th>\n",
       "      <th>treatment_y</th>\n",
       "      <th>procedure_y</th>\n",
       "      <th>sample_primary_met</th>\n",
       "      <th>diagnosis_recurrence</th>\n",
       "    </tr>\n",
       "  </thead>\n",
       "  <tbody>\n",
       "    <tr>\n",
       "      <th>0</th>\n",
       "      <td>RU1215</td>\n",
       "      <td>RU1215</td>\n",
       "      <td>Malignant</td>\n",
       "      <td>SCLC-N</td>\n",
       "      <td>3719</td>\n",
       "      <td>-21.2406</td>\n",
       "      <td>15.0462</td>\n",
       "      <td>0.0188</td>\n",
       "      <td>-0.0430</td>\n",
       "      <td>Not cycling</td>\n",
       "      <td>...</td>\n",
       "      <td>10x</td>\n",
       "      <td>3843</td>\n",
       "      <td>RU1215</td>\n",
       "      <td>Small Cell Lung Cancer</td>\n",
       "      <td>Pleural Fluid</td>\n",
       "      <td>pleural_effusion</td>\n",
       "      <td>Naive</td>\n",
       "      <td>Thoracentesis</td>\n",
       "      <td>Metastasis</td>\n",
       "      <td>NaN</td>\n",
       "    </tr>\n",
       "    <tr>\n",
       "      <th>1</th>\n",
       "      <td>RU1057_T</td>\n",
       "      <td>RU1057</td>\n",
       "      <td>Endothelial</td>\n",
       "      <td>Endothelial</td>\n",
       "      <td>2293</td>\n",
       "      <td>9.8559</td>\n",
       "      <td>26.6865</td>\n",
       "      <td>0.0323</td>\n",
       "      <td>0.0548</td>\n",
       "      <td>Not cycling</td>\n",
       "      <td>...</td>\n",
       "      <td>10x</td>\n",
       "      <td>2413</td>\n",
       "      <td>RU1057</td>\n",
       "      <td>Lung Adenocarcinoma</td>\n",
       "      <td>Tumor</td>\n",
       "      <td>lung</td>\n",
       "      <td>Naive</td>\n",
       "      <td>Resection</td>\n",
       "      <td>Primary</td>\n",
       "      <td>NaN</td>\n",
       "    </tr>\n",
       "    <tr>\n",
       "      <th>2</th>\n",
       "      <td>RU1152</td>\n",
       "      <td>RU1152</td>\n",
       "      <td>Malignant</td>\n",
       "      <td>SCLC-A</td>\n",
       "      <td>5093</td>\n",
       "      <td>-7.9765</td>\n",
       "      <td>-34.9137</td>\n",
       "      <td>0.3126</td>\n",
       "      <td>0.1707</td>\n",
       "      <td>Not cycling</td>\n",
       "      <td>...</td>\n",
       "      <td>10x</td>\n",
       "      <td>1926</td>\n",
       "      <td>RU1152</td>\n",
       "      <td>Small Cell Lung Cancer</td>\n",
       "      <td>Lymph Node</td>\n",
       "      <td>LN</td>\n",
       "      <td>Naive</td>\n",
       "      <td>Biopsy</td>\n",
       "      <td>Metastasis</td>\n",
       "      <td>NaN</td>\n",
       "    </tr>\n",
       "    <tr>\n",
       "      <th>3</th>\n",
       "      <td>PleuralEffusion</td>\n",
       "      <td>PleuralEffusion</td>\n",
       "      <td>T_cell</td>\n",
       "      <td>T_cell</td>\n",
       "      <td>1011</td>\n",
       "      <td>15.4183</td>\n",
       "      <td>-11.1212</td>\n",
       "      <td>0.1049</td>\n",
       "      <td>-0.0144</td>\n",
       "      <td>Not cycling</td>\n",
       "      <td>...</td>\n",
       "      <td>10x</td>\n",
       "      <td>2068</td>\n",
       "      <td>PleuralEffusion</td>\n",
       "      <td>Small Cell Lung Cancer</td>\n",
       "      <td>Pleural Fluid</td>\n",
       "      <td>pleural_effusion</td>\n",
       "      <td>Platinum Doublet,Immunotherapy,TMZ,Other chemo...</td>\n",
       "      <td>Thoracentesis</td>\n",
       "      <td>Metastasis</td>\n",
       "      <td>NaN</td>\n",
       "    </tr>\n",
       "    <tr>\n",
       "      <th>4</th>\n",
       "      <td>RU1128</td>\n",
       "      <td>RU1128</td>\n",
       "      <td>T_cell</td>\n",
       "      <td>T_cell</td>\n",
       "      <td>1386</td>\n",
       "      <td>15.3358</td>\n",
       "      <td>-1.6981</td>\n",
       "      <td>-0.0452</td>\n",
       "      <td>0.0633</td>\n",
       "      <td>Not cycling</td>\n",
       "      <td>...</td>\n",
       "      <td>10x</td>\n",
       "      <td>1373</td>\n",
       "      <td>RU1128</td>\n",
       "      <td>Lung Adenocarcinoma</td>\n",
       "      <td>Tumor</td>\n",
       "      <td>lung</td>\n",
       "      <td>Naive</td>\n",
       "      <td>Resection</td>\n",
       "      <td>Primary</td>\n",
       "      <td>NaN</td>\n",
       "    </tr>\n",
       "  </tbody>\n",
       "</table>\n",
       "<p>5 rows × 27 columns</p>\n",
       "</div>"
      ],
      "text/plain": [
       "            sample        patient_x    cell_type cell_subtype  complexity  \\\n",
       "0           RU1215           RU1215    Malignant       SCLC-N        3719   \n",
       "1         RU1057_T           RU1057  Endothelial  Endothelial        2293   \n",
       "2           RU1152           RU1152    Malignant       SCLC-A        5093   \n",
       "3  PleuralEffusion  PleuralEffusion       T_cell       T_cell        1011   \n",
       "4           RU1128           RU1128       T_cell       T_cell        1386   \n",
       "\n",
       "     umap1    umap2  g1s_score  g2m_score cell_cycle_phase  ...  technology  \\\n",
       "0 -21.2406  15.0462     0.0188    -0.0430      Not cycling  ...         10x   \n",
       "1   9.8559  26.6865     0.0323     0.0548      Not cycling  ...         10x   \n",
       "2  -7.9765 -34.9137     0.3126     0.1707      Not cycling  ...         10x   \n",
       "3  15.4183 -11.1212     0.1049    -0.0144      Not cycling  ...         10x   \n",
       "4  15.3358  -1.6981    -0.0452     0.0633      Not cycling  ...         10x   \n",
       "\n",
       "  n_cells        patient_y             cancer_type    sample_type  \\\n",
       "0    3843           RU1215  Small Cell Lung Cancer  Pleural Fluid   \n",
       "1    2413           RU1057     Lung Adenocarcinoma          Tumor   \n",
       "2    1926           RU1152  Small Cell Lung Cancer     Lymph Node   \n",
       "3    2068  PleuralEffusion  Small Cell Lung Cancer  Pleural Fluid   \n",
       "4    1373           RU1128     Lung Adenocarcinoma          Tumor   \n",
       "\n",
       "           source_y                                        treatment_y  \\\n",
       "0  pleural_effusion                                              Naive   \n",
       "1              lung                                              Naive   \n",
       "2                LN                                              Naive   \n",
       "3  pleural_effusion  Platinum Doublet,Immunotherapy,TMZ,Other chemo...   \n",
       "4              lung                                              Naive   \n",
       "\n",
       "     procedure_y  sample_primary_met diagnosis_recurrence  \n",
       "0  Thoracentesis          Metastasis                  NaN  \n",
       "1      Resection             Primary                  NaN  \n",
       "2         Biopsy          Metastasis                  NaN  \n",
       "3  Thoracentesis          Metastasis                  NaN  \n",
       "4      Resection             Primary                  NaN  \n",
       "\n",
       "[5 rows x 27 columns]"
      ]
     },
     "execution_count": 24,
     "metadata": {},
     "output_type": "execute_result"
    }
   ],
   "source": [
    "adata.obs.head()"
   ]
  },
  {
   "cell_type": "markdown",
   "metadata": {},
   "source": [
    "Check cell types and sample types"
   ]
  },
  {
   "cell_type": "code",
   "execution_count": null,
   "metadata": {},
   "outputs": [
    {
     "data": {
      "text/plain": [
       "array(['SCLC-N', 'Endothelial', 'SCLC-A', 'T_cell', 'SCLC-P', 'Basal',\n",
       "       'Macrophage', 'Dendritic', 'Ciliated', 'Ionocyte', 'Mast',\n",
       "       'B_cell', 'Fibroblast', 'AE1', 'AEP', 'Neuroendocrine',\n",
       "       'Hepatocyte', 'Plasma', 'NSCLC', 'Mucinous', 'Club', 'Neutrophil',\n",
       "       'Tuft'], dtype=object)"
      ]
     },
     "execution_count": 25,
     "metadata": {},
     "output_type": "execute_result"
    }
   ],
   "source": [
    "adata.obs[\"cell_subtype\"].unique()"
   ]
  },
  {
   "cell_type": "code",
   "execution_count": 26,
   "metadata": {},
   "outputs": [
    {
     "data": {
      "text/plain": [
       "array(['Malignant', 'Endothelial', 'T_cell', 'Epithelial', 'Macrophage',\n",
       "       'Dendritic', 'Mast', 'B_cell', 'Fibroblast', 'Plasma',\n",
       "       'Neutrophil'], dtype=object)"
      ]
     },
     "execution_count": 26,
     "metadata": {},
     "output_type": "execute_result"
    }
   ],
   "source": [
    "adata.obs[\"cell_type\"].unique()"
   ]
  },
  {
   "cell_type": "code",
   "execution_count": null,
   "metadata": {},
   "outputs": [
    {
     "data": {
      "text/plain": [
       "array(['Pleural Fluid', 'Tumor', 'Lymph Node'], dtype=object)"
      ]
     },
     "execution_count": 27,
     "metadata": {},
     "output_type": "execute_result"
    }
   ],
   "source": [
    "adata.obs[\"sample_type\"].unique()"
   ]
  },
  {
   "cell_type": "code",
   "execution_count": null,
   "metadata": {},
   "outputs": [],
   "source": [
    "# Select only malignant cells from primary tumor samples\n",
    "adata_tumor_cells = adata[(adata.obs[\"cell_type\"] == \"Malignant\") & (adata.obs[\"sample_type\"] == \"Tumor\")]"
   ]
  },
  {
   "cell_type": "code",
   "execution_count": 30,
   "metadata": {},
   "outputs": [
    {
     "data": {
      "text/plain": [
       "array(['Malignant'], dtype=object)"
      ]
     },
     "execution_count": 30,
     "metadata": {},
     "output_type": "execute_result"
    }
   ],
   "source": [
    "adata_tumor_cells.obs[\"cell_type\"].unique()"
   ]
  },
  {
   "cell_type": "code",
   "execution_count": 31,
   "metadata": {},
   "outputs": [
    {
     "data": {
      "text/plain": [
       "array(['SCLC-N', 'SCLC-A', 'NSCLC', 'SCLC-P'], dtype=object)"
      ]
     },
     "execution_count": 31,
     "metadata": {},
     "output_type": "execute_result"
    }
   ],
   "source": [
    "adata_tumor_cells.obs[\"cell_subtype\"].unique() \n",
    "\n",
    "# все, остались только нужные нам клетки"
   ]
  },
  {
   "cell_type": "code",
   "execution_count": 32,
   "metadata": {},
   "outputs": [
    {
     "data": {
      "text/html": [
       "<div>\n",
       "<style scoped>\n",
       "    .dataframe tbody tr th:only-of-type {\n",
       "        vertical-align: middle;\n",
       "    }\n",
       "\n",
       "    .dataframe tbody tr th {\n",
       "        vertical-align: top;\n",
       "    }\n",
       "\n",
       "    .dataframe thead th {\n",
       "        text-align: right;\n",
       "    }\n",
       "</style>\n",
       "<table border=\"1\" class=\"dataframe\">\n",
       "  <thead>\n",
       "    <tr style=\"text-align: right;\">\n",
       "      <th></th>\n",
       "      <th>sample</th>\n",
       "      <th>patient_x</th>\n",
       "      <th>cell_type</th>\n",
       "      <th>cell_subtype</th>\n",
       "      <th>complexity</th>\n",
       "      <th>umap1</th>\n",
       "      <th>umap2</th>\n",
       "      <th>g1s_score</th>\n",
       "      <th>g2m_score</th>\n",
       "      <th>cell_cycle_phase</th>\n",
       "      <th>...</th>\n",
       "      <th>technology</th>\n",
       "      <th>n_cells</th>\n",
       "      <th>patient_y</th>\n",
       "      <th>cancer_type</th>\n",
       "      <th>sample_type</th>\n",
       "      <th>source_y</th>\n",
       "      <th>treatment_y</th>\n",
       "      <th>procedure_y</th>\n",
       "      <th>sample_primary_met</th>\n",
       "      <th>diagnosis_recurrence</th>\n",
       "    </tr>\n",
       "  </thead>\n",
       "  <tbody>\n",
       "    <tr>\n",
       "      <th>7</th>\n",
       "      <td>RU1181B</td>\n",
       "      <td>RU1181</td>\n",
       "      <td>Malignant</td>\n",
       "      <td>SCLC-N</td>\n",
       "      <td>7295</td>\n",
       "      <td>-12.8784</td>\n",
       "      <td>-20.7759</td>\n",
       "      <td>1.3639</td>\n",
       "      <td>0.0213</td>\n",
       "      <td>G1/S</td>\n",
       "      <td>...</td>\n",
       "      <td>10x</td>\n",
       "      <td>1871</td>\n",
       "      <td>RU1181B</td>\n",
       "      <td>Small Cell Lung Cancer</td>\n",
       "      <td>Tumor</td>\n",
       "      <td>lung</td>\n",
       "      <td>Platinum Doublet</td>\n",
       "      <td>Biopsy</td>\n",
       "      <td>Primary</td>\n",
       "      <td>NaN</td>\n",
       "    </tr>\n",
       "    <tr>\n",
       "      <th>8</th>\n",
       "      <td>RU1108a_RPMI</td>\n",
       "      <td>RU1108a</td>\n",
       "      <td>Malignant</td>\n",
       "      <td>SCLC-A</td>\n",
       "      <td>4009</td>\n",
       "      <td>-1.6692</td>\n",
       "      <td>-7.1275</td>\n",
       "      <td>-0.1177</td>\n",
       "      <td>0.0123</td>\n",
       "      <td>Not cycling</td>\n",
       "      <td>...</td>\n",
       "      <td>10x</td>\n",
       "      <td>3852</td>\n",
       "      <td>RU1108a</td>\n",
       "      <td>Small Cell Lung Cancer</td>\n",
       "      <td>Tumor</td>\n",
       "      <td>lung</td>\n",
       "      <td>Platinum Doublet,PARP inhibitor,TMZ</td>\n",
       "      <td>Resection</td>\n",
       "      <td>Primary</td>\n",
       "      <td>Recurrence</td>\n",
       "    </tr>\n",
       "    <tr>\n",
       "      <th>16</th>\n",
       "      <td>RU1145</td>\n",
       "      <td>RU1145</td>\n",
       "      <td>Malignant</td>\n",
       "      <td>SCLC-A</td>\n",
       "      <td>5168</td>\n",
       "      <td>-26.7587</td>\n",
       "      <td>-14.5602</td>\n",
       "      <td>1.1470</td>\n",
       "      <td>1.9605</td>\n",
       "      <td>G2/M</td>\n",
       "      <td>...</td>\n",
       "      <td>10x</td>\n",
       "      <td>3866</td>\n",
       "      <td>RU1145</td>\n",
       "      <td>Small Cell Lung Cancer</td>\n",
       "      <td>Tumor</td>\n",
       "      <td>lung</td>\n",
       "      <td>Naive</td>\n",
       "      <td>Resection</td>\n",
       "      <td>Primary</td>\n",
       "      <td>NaN</td>\n",
       "    </tr>\n",
       "    <tr>\n",
       "      <th>21</th>\n",
       "      <td>RU1108a_Bambanker</td>\n",
       "      <td>RU1108a</td>\n",
       "      <td>Malignant</td>\n",
       "      <td>SCLC-A</td>\n",
       "      <td>3349</td>\n",
       "      <td>-4.1274</td>\n",
       "      <td>-3.9164</td>\n",
       "      <td>-0.0899</td>\n",
       "      <td>0.0263</td>\n",
       "      <td>Not cycling</td>\n",
       "      <td>...</td>\n",
       "      <td>10x</td>\n",
       "      <td>2773</td>\n",
       "      <td>RU1108a</td>\n",
       "      <td>Small Cell Lung Cancer</td>\n",
       "      <td>Tumor</td>\n",
       "      <td>lung</td>\n",
       "      <td>Platinum Doublet,PARP inhibitor,TMZ</td>\n",
       "      <td>Resection</td>\n",
       "      <td>Primary</td>\n",
       "      <td>Recurrence</td>\n",
       "    </tr>\n",
       "    <tr>\n",
       "      <th>23</th>\n",
       "      <td>RU1066</td>\n",
       "      <td>RU1066</td>\n",
       "      <td>Malignant</td>\n",
       "      <td>SCLC-A</td>\n",
       "      <td>3780</td>\n",
       "      <td>-9.8286</td>\n",
       "      <td>-11.7148</td>\n",
       "      <td>1.8767</td>\n",
       "      <td>0.1344</td>\n",
       "      <td>G1/S</td>\n",
       "      <td>...</td>\n",
       "      <td>10x</td>\n",
       "      <td>3121</td>\n",
       "      <td>RU1066</td>\n",
       "      <td>Small Cell Lung Cancer</td>\n",
       "      <td>Tumor</td>\n",
       "      <td>lung</td>\n",
       "      <td>Naive</td>\n",
       "      <td>Resection</td>\n",
       "      <td>Primary</td>\n",
       "      <td>NaN</td>\n",
       "    </tr>\n",
       "  </tbody>\n",
       "</table>\n",
       "<p>5 rows × 27 columns</p>\n",
       "</div>"
      ],
      "text/plain": [
       "               sample patient_x  cell_type cell_subtype  complexity    umap1  \\\n",
       "7             RU1181B    RU1181  Malignant       SCLC-N        7295 -12.8784   \n",
       "8        RU1108a_RPMI   RU1108a  Malignant       SCLC-A        4009  -1.6692   \n",
       "16             RU1145    RU1145  Malignant       SCLC-A        5168 -26.7587   \n",
       "21  RU1108a_Bambanker   RU1108a  Malignant       SCLC-A        3349  -4.1274   \n",
       "23             RU1066    RU1066  Malignant       SCLC-A        3780  -9.8286   \n",
       "\n",
       "      umap2  g1s_score  g2m_score cell_cycle_phase  ...  technology n_cells  \\\n",
       "7  -20.7759     1.3639     0.0213             G1/S  ...         10x    1871   \n",
       "8   -7.1275    -0.1177     0.0123      Not cycling  ...         10x    3852   \n",
       "16 -14.5602     1.1470     1.9605             G2/M  ...         10x    3866   \n",
       "21  -3.9164    -0.0899     0.0263      Not cycling  ...         10x    2773   \n",
       "23 -11.7148     1.8767     0.1344             G1/S  ...         10x    3121   \n",
       "\n",
       "   patient_y             cancer_type sample_type source_y  \\\n",
       "7    RU1181B  Small Cell Lung Cancer       Tumor     lung   \n",
       "8    RU1108a  Small Cell Lung Cancer       Tumor     lung   \n",
       "16    RU1145  Small Cell Lung Cancer       Tumor     lung   \n",
       "21   RU1108a  Small Cell Lung Cancer       Tumor     lung   \n",
       "23    RU1066  Small Cell Lung Cancer       Tumor     lung   \n",
       "\n",
       "                            treatment_y procedure_y  sample_primary_met  \\\n",
       "7                      Platinum Doublet      Biopsy             Primary   \n",
       "8   Platinum Doublet,PARP inhibitor,TMZ   Resection             Primary   \n",
       "16                                Naive   Resection             Primary   \n",
       "21  Platinum Doublet,PARP inhibitor,TMZ   Resection             Primary   \n",
       "23                                Naive   Resection             Primary   \n",
       "\n",
       "   diagnosis_recurrence  \n",
       "7                   NaN  \n",
       "8            Recurrence  \n",
       "16                  NaN  \n",
       "21           Recurrence  \n",
       "23                  NaN  \n",
       "\n",
       "[5 rows x 27 columns]"
      ]
     },
     "execution_count": 32,
     "metadata": {},
     "output_type": "execute_result"
    }
   ],
   "source": [
    "adata_tumor_cells.obs.head()"
   ]
  },
  {
   "cell_type": "code",
   "execution_count": 33,
   "metadata": {},
   "outputs": [
    {
     "data": {
      "text/plain": [
       "array(['Tumor'], dtype=object)"
      ]
     },
     "execution_count": 33,
     "metadata": {},
     "output_type": "execute_result"
    }
   ],
   "source": [
    "adata_tumor_cells.obs[\"sample_type\"].unique()"
   ]
  },
  {
   "cell_type": "code",
   "execution_count": null,
   "metadata": {},
   "outputs": [
    {
     "name": "stderr",
     "output_type": "stream",
     "text": [
      "c:\\Users\\Ivan\\AppData\\Local\\Programs\\Python\\Python312\\Lib\\site-packages\\anndata\\_core\\anndata.py:750: UserWarning: \n",
      "AnnData expects .obs.index to contain strings, but got values like:\n",
      "    [7, 8, 16, 21, 23]\n",
      "\n",
      "    Inferred to be: integer\n",
      "\n",
      "  value_idx = self._prep_dim_index(value.index, attr)\n",
      "c:\\Users\\Ivan\\AppData\\Local\\Programs\\Python\\Python312\\Lib\\site-packages\\anndata\\_core\\aligned_df.py:68: ImplicitModificationWarning: Transforming to str index.\n",
      "  warnings.warn(\"Transforming to str index.\", ImplicitModificationWarning)\n"
     ]
    }
   ],
   "source": [
    "# Select required columns for standard metadata\n",
    "required_columns = ['sample', 'patient_x', 'cell_subtype', \"cancer_type\"]\n",
    "adata_tumor_cells.obs = adata_tumor_cells.obs[required_columns]"
   ]
  },
  {
   "cell_type": "code",
   "execution_count": null,
   "metadata": {},
   "outputs": [],
   "source": [
    "# Construct standardized metadata structure\n",
    "obs_df = pd.DataFrame(adata_tumor_cells.obs)\n",
    "\n",
    "obs_df['Dataset'] = 'LUNG_SCLC_LUAD_Chan_2021'\n",
    "obs_df['Organ_origin'] = 'Lung cancer'\n",
    "obs_df['Sample'] = obs_df['sample']\n",
    "obs_df['Patient'] = obs_df['patient_x']\n",
    "obs_df['Tissue'] = \"Tumor\"\n",
    "obs_df['Cancer type'] = obs_df['cancer_type']\n",
    "obs_df['cnv_status'] = 'tumor'\n",
    "obs_df['Celltype'] = obs_df['cell_subtype']"
   ]
  },
  {
   "cell_type": "code",
   "execution_count": 37,
   "metadata": {},
   "outputs": [
    {
     "name": "stderr",
     "output_type": "stream",
     "text": [
      "c:\\Users\\Ivan\\AppData\\Local\\Programs\\Python\\Python312\\Lib\\site-packages\\anndata\\_core\\anndata.py:750: UserWarning: \n",
      "AnnData expects .obs.index to contain strings, but got values like:\n",
      "    [7, 8, 16, 21, 23]\n",
      "\n",
      "    Inferred to be: integer\n",
      "\n",
      "  value_idx = self._prep_dim_index(value.index, attr)\n"
     ]
    }
   ],
   "source": [
    "adata_tumor_cells.obs = obs_df"
   ]
  },
  {
   "cell_type": "code",
   "execution_count": null,
   "metadata": {},
   "outputs": [
    {
     "name": "stderr",
     "output_type": "stream",
     "text": [
      "c:\\Users\\Ivan\\AppData\\Local\\Programs\\Python\\Python312\\Lib\\site-packages\\anndata\\_core\\anndata.py:750: UserWarning: \n",
      "AnnData expects .obs.index to contain strings, but got values like:\n",
      "    [7, 8, 16, 21, 23]\n",
      "\n",
      "    Inferred to be: integer\n",
      "\n",
      "  value_idx = self._prep_dim_index(value.index, attr)\n"
     ]
    },
    {
     "data": {
      "text/html": [
       "<div>\n",
       "<style scoped>\n",
       "    .dataframe tbody tr th:only-of-type {\n",
       "        vertical-align: middle;\n",
       "    }\n",
       "\n",
       "    .dataframe tbody tr th {\n",
       "        vertical-align: top;\n",
       "    }\n",
       "\n",
       "    .dataframe thead th {\n",
       "        text-align: right;\n",
       "    }\n",
       "</style>\n",
       "<table border=\"1\" class=\"dataframe\">\n",
       "  <thead>\n",
       "    <tr style=\"text-align: right;\">\n",
       "      <th></th>\n",
       "      <th>Dataset</th>\n",
       "      <th>Organ_origin</th>\n",
       "      <th>Sample</th>\n",
       "      <th>Patient</th>\n",
       "      <th>Tissue</th>\n",
       "      <th>Cancer type</th>\n",
       "      <th>cnv_status</th>\n",
       "      <th>Celltype</th>\n",
       "    </tr>\n",
       "  </thead>\n",
       "  <tbody>\n",
       "    <tr>\n",
       "      <th>7</th>\n",
       "      <td>LUNG_SCLC_LUAD_Chan_2021</td>\n",
       "      <td>Lung cancer</td>\n",
       "      <td>RU1181B</td>\n",
       "      <td>RU1181</td>\n",
       "      <td>Tumor</td>\n",
       "      <td>Small Cell Lung Cancer</td>\n",
       "      <td>tumor</td>\n",
       "      <td>SCLC-N</td>\n",
       "    </tr>\n",
       "    <tr>\n",
       "      <th>8</th>\n",
       "      <td>LUNG_SCLC_LUAD_Chan_2021</td>\n",
       "      <td>Lung cancer</td>\n",
       "      <td>RU1108a_RPMI</td>\n",
       "      <td>RU1108a</td>\n",
       "      <td>Tumor</td>\n",
       "      <td>Small Cell Lung Cancer</td>\n",
       "      <td>tumor</td>\n",
       "      <td>SCLC-A</td>\n",
       "    </tr>\n",
       "    <tr>\n",
       "      <th>16</th>\n",
       "      <td>LUNG_SCLC_LUAD_Chan_2021</td>\n",
       "      <td>Lung cancer</td>\n",
       "      <td>RU1145</td>\n",
       "      <td>RU1145</td>\n",
       "      <td>Tumor</td>\n",
       "      <td>Small Cell Lung Cancer</td>\n",
       "      <td>tumor</td>\n",
       "      <td>SCLC-A</td>\n",
       "    </tr>\n",
       "    <tr>\n",
       "      <th>21</th>\n",
       "      <td>LUNG_SCLC_LUAD_Chan_2021</td>\n",
       "      <td>Lung cancer</td>\n",
       "      <td>RU1108a_Bambanker</td>\n",
       "      <td>RU1108a</td>\n",
       "      <td>Tumor</td>\n",
       "      <td>Small Cell Lung Cancer</td>\n",
       "      <td>tumor</td>\n",
       "      <td>SCLC-A</td>\n",
       "    </tr>\n",
       "    <tr>\n",
       "      <th>23</th>\n",
       "      <td>LUNG_SCLC_LUAD_Chan_2021</td>\n",
       "      <td>Lung cancer</td>\n",
       "      <td>RU1066</td>\n",
       "      <td>RU1066</td>\n",
       "      <td>Tumor</td>\n",
       "      <td>Small Cell Lung Cancer</td>\n",
       "      <td>tumor</td>\n",
       "      <td>SCLC-A</td>\n",
       "    </tr>\n",
       "    <tr>\n",
       "      <th>...</th>\n",
       "      <td>...</td>\n",
       "      <td>...</td>\n",
       "      <td>...</td>\n",
       "      <td>...</td>\n",
       "      <td>...</td>\n",
       "      <td>...</td>\n",
       "      <td>...</td>\n",
       "      <td>...</td>\n",
       "    </tr>\n",
       "    <tr>\n",
       "      <th>86641</th>\n",
       "      <td>LUNG_SCLC_LUAD_Chan_2021</td>\n",
       "      <td>Lung cancer</td>\n",
       "      <td>RU1108a_Bambanker</td>\n",
       "      <td>RU1108a</td>\n",
       "      <td>Tumor</td>\n",
       "      <td>Small Cell Lung Cancer</td>\n",
       "      <td>tumor</td>\n",
       "      <td>SCLC-A</td>\n",
       "    </tr>\n",
       "    <tr>\n",
       "      <th>86643</th>\n",
       "      <td>LUNG_SCLC_LUAD_Chan_2021</td>\n",
       "      <td>Lung cancer</td>\n",
       "      <td>RU1108a_Bambanker_Frozen</td>\n",
       "      <td>RU1108a</td>\n",
       "      <td>Tumor</td>\n",
       "      <td>Small Cell Lung Cancer</td>\n",
       "      <td>tumor</td>\n",
       "      <td>SCLC-A</td>\n",
       "    </tr>\n",
       "    <tr>\n",
       "      <th>86653</th>\n",
       "      <td>LUNG_SCLC_LUAD_Chan_2021</td>\n",
       "      <td>Lung cancer</td>\n",
       "      <td>RU1293A</td>\n",
       "      <td>RU1293A</td>\n",
       "      <td>Tumor</td>\n",
       "      <td>Small Cell Lung Cancer</td>\n",
       "      <td>tumor</td>\n",
       "      <td>SCLC-N</td>\n",
       "    </tr>\n",
       "    <tr>\n",
       "      <th>86659</th>\n",
       "      <td>LUNG_SCLC_LUAD_Chan_2021</td>\n",
       "      <td>Lung cancer</td>\n",
       "      <td>RU1108a_Bambanker_Frozen</td>\n",
       "      <td>RU1108a</td>\n",
       "      <td>Tumor</td>\n",
       "      <td>Small Cell Lung Cancer</td>\n",
       "      <td>tumor</td>\n",
       "      <td>SCLC-A</td>\n",
       "    </tr>\n",
       "    <tr>\n",
       "      <th>86661</th>\n",
       "      <td>LUNG_SCLC_LUAD_Chan_2021</td>\n",
       "      <td>Lung cancer</td>\n",
       "      <td>RU1181B</td>\n",
       "      <td>RU1181</td>\n",
       "      <td>Tumor</td>\n",
       "      <td>Small Cell Lung Cancer</td>\n",
       "      <td>tumor</td>\n",
       "      <td>SCLC-N</td>\n",
       "    </tr>\n",
       "  </tbody>\n",
       "</table>\n",
       "<p>32591 rows × 8 columns</p>\n",
       "</div>"
      ],
      "text/plain": [
       "                        Dataset Organ_origin                    Sample  \\\n",
       "7      LUNG_SCLC_LUAD_Chan_2021  Lung cancer                   RU1181B   \n",
       "8      LUNG_SCLC_LUAD_Chan_2021  Lung cancer              RU1108a_RPMI   \n",
       "16     LUNG_SCLC_LUAD_Chan_2021  Lung cancer                    RU1145   \n",
       "21     LUNG_SCLC_LUAD_Chan_2021  Lung cancer         RU1108a_Bambanker   \n",
       "23     LUNG_SCLC_LUAD_Chan_2021  Lung cancer                    RU1066   \n",
       "...                         ...          ...                       ...   \n",
       "86641  LUNG_SCLC_LUAD_Chan_2021  Lung cancer         RU1108a_Bambanker   \n",
       "86643  LUNG_SCLC_LUAD_Chan_2021  Lung cancer  RU1108a_Bambanker_Frozen   \n",
       "86653  LUNG_SCLC_LUAD_Chan_2021  Lung cancer                   RU1293A   \n",
       "86659  LUNG_SCLC_LUAD_Chan_2021  Lung cancer  RU1108a_Bambanker_Frozen   \n",
       "86661  LUNG_SCLC_LUAD_Chan_2021  Lung cancer                   RU1181B   \n",
       "\n",
       "       Patient Tissue             Cancer type cnv_status Celltype  \n",
       "7       RU1181  Tumor  Small Cell Lung Cancer      tumor   SCLC-N  \n",
       "8      RU1108a  Tumor  Small Cell Lung Cancer      tumor   SCLC-A  \n",
       "16      RU1145  Tumor  Small Cell Lung Cancer      tumor   SCLC-A  \n",
       "21     RU1108a  Tumor  Small Cell Lung Cancer      tumor   SCLC-A  \n",
       "23      RU1066  Tumor  Small Cell Lung Cancer      tumor   SCLC-A  \n",
       "...        ...    ...                     ...        ...      ...  \n",
       "86641  RU1108a  Tumor  Small Cell Lung Cancer      tumor   SCLC-A  \n",
       "86643  RU1108a  Tumor  Small Cell Lung Cancer      tumor   SCLC-A  \n",
       "86653  RU1293A  Tumor  Small Cell Lung Cancer      tumor   SCLC-N  \n",
       "86659  RU1108a  Tumor  Small Cell Lung Cancer      tumor   SCLC-A  \n",
       "86661   RU1181  Tumor  Small Cell Lung Cancer      tumor   SCLC-N  \n",
       "\n",
       "[32591 rows x 8 columns]"
      ]
     },
     "execution_count": 38,
     "metadata": {},
     "output_type": "execute_result"
    }
   ],
   "source": [
    "# Reorder columns\n",
    "desired_order = ['Dataset', 'Organ_origin', 'Sample', 'Patient', 'Tissue', 'Cancer type', 'cnv_status', 'Celltype']\n",
    "adata_tumor_cells.obs = adata_tumor_cells.obs[desired_order]\n",
    "adata_tumor_cells.obs"
   ]
  },
  {
   "cell_type": "code",
   "execution_count": null,
   "metadata": {},
   "outputs": [
    {
     "data": {
      "text/plain": [
       "AnnData object with n_obs × n_vars = 32591 × 26036\n",
       "    obs: 'Dataset', 'Organ_origin', 'Sample', 'Patient', 'Tissue', 'Cancer type', 'cnv_status', 'Celltype'"
      ]
     },
     "execution_count": 39,
     "metadata": {},
     "output_type": "execute_result"
    }
   ],
   "source": [
    "# Clear unnecessary AnnData layers\n",
    "adata_tumor_cells.uns.clear()\n",
    "adata_tumor_cells"
   ]
  },
  {
   "cell_type": "code",
   "execution_count": null,
   "metadata": {},
   "outputs": [
    {
     "name": "stderr",
     "output_type": "stream",
     "text": [
      "c:\\Users\\Ivan\\AppData\\Local\\Programs\\Python\\Python312\\Lib\\site-packages\\anndata\\_core\\anndata.py:1146: SettingWithCopyWarning: \n",
      "A value is trying to be set on a copy of a slice from a DataFrame.\n",
      "Try using .loc[row_indexer,col_indexer] = value instead\n",
      "\n",
      "See the caveats in the documentation: https://pandas.pydata.org/pandas-docs/stable/user_guide/indexing.html#returning-a-view-versus-a-copy\n",
      "  df[key] = c\n",
      "c:\\Users\\Ivan\\AppData\\Local\\Programs\\Python\\Python312\\Lib\\site-packages\\anndata\\_core\\anndata.py:1146: SettingWithCopyWarning: \n",
      "A value is trying to be set on a copy of a slice from a DataFrame.\n",
      "Try using .loc[row_indexer,col_indexer] = value instead\n",
      "\n",
      "See the caveats in the documentation: https://pandas.pydata.org/pandas-docs/stable/user_guide/indexing.html#returning-a-view-versus-a-copy\n",
      "  df[key] = c\n",
      "c:\\Users\\Ivan\\AppData\\Local\\Programs\\Python\\Python312\\Lib\\site-packages\\anndata\\_core\\anndata.py:1146: SettingWithCopyWarning: \n",
      "A value is trying to be set on a copy of a slice from a DataFrame.\n",
      "Try using .loc[row_indexer,col_indexer] = value instead\n",
      "\n",
      "See the caveats in the documentation: https://pandas.pydata.org/pandas-docs/stable/user_guide/indexing.html#returning-a-view-versus-a-copy\n",
      "  df[key] = c\n",
      "c:\\Users\\Ivan\\AppData\\Local\\Programs\\Python\\Python312\\Lib\\site-packages\\anndata\\_core\\anndata.py:1146: SettingWithCopyWarning: \n",
      "A value is trying to be set on a copy of a slice from a DataFrame.\n",
      "Try using .loc[row_indexer,col_indexer] = value instead\n",
      "\n",
      "See the caveats in the documentation: https://pandas.pydata.org/pandas-docs/stable/user_guide/indexing.html#returning-a-view-versus-a-copy\n",
      "  df[key] = c\n",
      "c:\\Users\\Ivan\\AppData\\Local\\Programs\\Python\\Python312\\Lib\\site-packages\\anndata\\_core\\anndata.py:1146: SettingWithCopyWarning: \n",
      "A value is trying to be set on a copy of a slice from a DataFrame.\n",
      "Try using .loc[row_indexer,col_indexer] = value instead\n",
      "\n",
      "See the caveats in the documentation: https://pandas.pydata.org/pandas-docs/stable/user_guide/indexing.html#returning-a-view-versus-a-copy\n",
      "  df[key] = c\n",
      "c:\\Users\\Ivan\\AppData\\Local\\Programs\\Python\\Python312\\Lib\\site-packages\\anndata\\_core\\anndata.py:1146: SettingWithCopyWarning: \n",
      "A value is trying to be set on a copy of a slice from a DataFrame.\n",
      "Try using .loc[row_indexer,col_indexer] = value instead\n",
      "\n",
      "See the caveats in the documentation: https://pandas.pydata.org/pandas-docs/stable/user_guide/indexing.html#returning-a-view-versus-a-copy\n",
      "  df[key] = c\n",
      "c:\\Users\\Ivan\\AppData\\Local\\Programs\\Python\\Python312\\Lib\\site-packages\\anndata\\_core\\anndata.py:1146: SettingWithCopyWarning: \n",
      "A value is trying to be set on a copy of a slice from a DataFrame.\n",
      "Try using .loc[row_indexer,col_indexer] = value instead\n",
      "\n",
      "See the caveats in the documentation: https://pandas.pydata.org/pandas-docs/stable/user_guide/indexing.html#returning-a-view-versus-a-copy\n",
      "  df[key] = c\n",
      "c:\\Users\\Ivan\\AppData\\Local\\Programs\\Python\\Python312\\Lib\\site-packages\\anndata\\_core\\anndata.py:1146: SettingWithCopyWarning: \n",
      "A value is trying to be set on a copy of a slice from a DataFrame.\n",
      "Try using .loc[row_indexer,col_indexer] = value instead\n",
      "\n",
      "See the caveats in the documentation: https://pandas.pydata.org/pandas-docs/stable/user_guide/indexing.html#returning-a-view-versus-a-copy\n",
      "  df[key] = c\n"
     ]
    }
   ],
   "source": [
    "# Save processed dataset to .h5ad\n",
    "adata_tumor_cells.write(\"LUNG_SCLC_LUAD_Chan_2021_filtered.h5ad\")"
   ]
  }
 ],
 "metadata": {
  "kernelspec": {
   "display_name": "Python 3",
   "language": "python",
   "name": "python3"
  },
  "language_info": {
   "codemirror_mode": {
    "name": "ipython",
    "version": 3
   },
   "file_extension": ".py",
   "mimetype": "text/x-python",
   "name": "python",
   "nbconvert_exporter": "python",
   "pygments_lexer": "ipython3",
   "version": "3.12.6"
  }
 },
 "nbformat": 4,
 "nbformat_minor": 2
}
