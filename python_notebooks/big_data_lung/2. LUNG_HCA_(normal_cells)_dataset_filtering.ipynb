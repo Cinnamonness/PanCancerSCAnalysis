{
 "cells": [
  {
   "cell_type": "code",
   "execution_count": null,
   "metadata": {},
   "outputs": [],
   "source": [
    "import scanpy as sc\n",
    "import anndata as ad\n",
    "import pandas as pd\n",
    "import numpy as np\n",
    "import seaborn as sns\n",
    "import matplotlib.pyplot as plt\n",
    "import harmonypy as hm"
   ]
  },
  {
   "cell_type": "markdown",
   "metadata": {},
   "source": [
    "### Step 1: Load the Preprocessed Lung Dataset\n",
    "We load epithelial cells from a publicly available human lung scRNA-seq dataset (`.h5ad` format).\n"
   ]
  },
  {
   "cell_type": "code",
   "execution_count": null,
   "metadata": {},
   "outputs": [],
   "source": [
    "\n",
    "adata_lung = sc.read_h5ad(\"data/normal/LUNG_HCA_filtered_epithelial_10x_240225.h5ad\")\n",
    "adata_lung.obs[\"dataset\"] = \"LUNG_HCA_filtered_epithelial\""
   ]
  },
  {
   "cell_type": "markdown",
   "metadata": {},
   "source": [
    "### Step 2: Inspect Expression Value Range\n",
    "Check the minimum and maximum values in the expression matrix to evaluate whether the data are log-normalized.\n",
    "\n",
    "To determine the normalization method used in the dataset, we begin by examining the range of expression values. This helps to confirm whether the matrix is log-transformed. If the values are small and span a compressed range, they are likely log-transformed. We will later assess total expression per cell to infer the scaling method (e.g., per 10,000 or 1,000,000 counts).\n",
    "Check the minimum and maximum values in the expression matrix to evaluate whether the data are log-normalized.\n"
   ]
  },
  {
   "cell_type": "code",
   "execution_count": null,
   "metadata": {},
   "outputs": [
    {
     "name": "stdout",
     "output_type": "stream",
     "text": [
      "0.0 11.255894\n"
     ]
    }
   ],
   "source": [
    "print(adata_lung.X.min(), adata_lung.X.max())"
   ]
  },
  {
   "cell_type": "code",
   "execution_count": 21,
   "metadata": {},
   "outputs": [
    {
     "data": {
      "text/plain": [
       "AnnData object with n_obs × n_vars = 282295 × 27957\n",
       "    obs: 'suspension_type', 'donor_id', 'is_primary_data', 'assay_ontology_term_id', 'cell_type_ontology_term_id', 'development_stage_ontology_term_id', 'disease_ontology_term_id', 'self_reported_ethnicity_ontology_term_id', 'tissue_ontology_term_id', 'organism_ontology_term_id', 'sex_ontology_term_id', 'BMI', 'age_or_mean_of_age_range', 'age_range', 'anatomical_region_ccf_score', 'ann_coarse_for_GWAS_and_modeling', 'ann_finest_level', 'ann_level_1', 'ann_level_2', 'ann_level_3', 'ann_level_4', 'ann_level_5', 'cause_of_death', 'dataset', 'entropy_dataset_leiden_3', 'entropy_original_ann_level_1_leiden_3', 'entropy_original_ann_level_2_clean_leiden_3', 'entropy_original_ann_level_3_clean_leiden_3', 'entropy_subject_ID_leiden_3', 'fresh_or_frozen', 'leiden_1', 'leiden_2', 'leiden_3', 'leiden_4', 'leiden_5', 'log10_total_counts', 'lung_condition', 'mixed_ancestry', 'n_genes_detected', 'original_ann_highest_res', 'original_ann_level_1', 'original_ann_level_2', 'original_ann_level_3', 'original_ann_level_4', 'original_ann_level_5', 'original_ann_nonharmonized', 'reannotation_type', 'reference_genome', 'sample', 'scanvi_label', 'sequencing_platform', 'size_factors', 'smoking_status', 'study', 'subject_type', 'tissue_dissociation_protocol', 'tissue_level_2', 'tissue_level_3', 'tissue_sampling_method', 'tissue_type', 'cell_type', 'assay', 'disease', 'organism', 'sex', 'tissue', 'self_reported_ethnicity', 'development_stage', 'observation_joinid'\n",
       "    var: 'feature_is_filtered', 'feature_name', 'feature_reference', 'feature_biotype', 'feature_length', 'feature_type'\n",
       "    uns: 'batch_condition', 'citation', 'default_embedding', 'schema_reference', 'schema_version', 'title'\n",
       "    obsm: 'X_scanvi_emb', 'X_umap'\n",
       "    obsp: 'connectivities', 'distances'"
      ]
     },
     "execution_count": 21,
     "metadata": {},
     "output_type": "execute_result"
    }
   ],
   "source": [
    "# Структура датасета\n",
    "adata_lung"
   ]
  },
  {
   "cell_type": "markdown",
   "metadata": {},
   "source": [
    "### Step 3: Reverse Log Transformation and Assess Normalization\n",
    "Undo the `log1p` transformation using `expm1`, calculate total expression per cell, and plot the distribution to understand the normalization scale (e.g., per 10,000 or per 1,000,000).\n",
    "\n",
    "The expression matrix appears to be both normalized and log-transformed. We hypothesize the data are normalized to 10,000 counts per cell.\n",
    "\n",
    "**Interpretation guidelines:**\n",
    "- If the data were log-transformed with `log1p`, use `np.expm1(adata.X)` to revert.\n",
    "- If the total expression per cell is approximately 10,000, the normalization method is likely TP10K (transcripts per 10,000).\n",
    "- If the sum is closer to 1,000,000, it suggests CPM (counts per million) normalization.\n",
    "- If the distribution is highly variable, normalization might not have been applied consistently.\n",
    "\n",
    "By plotting the total counts per cell, we can visually assess which normalization method was likely used.\n",
    "Undo the `log1p` transformation using `expm1`, calculate total expression per cell, and plot the distribution to understand the normalization scale (e.g., per 10,000 or per 1,000,000).\n"
   ]
  },
  {
   "cell_type": "code",
   "execution_count": null,
   "metadata": {},
   "outputs": [
    {
     "data": {
      "image/png": "[encoded data removed]",
      "text/plain": [
       "<Figure size 600x400 with 1 Axes>"
      ]
     },
     "metadata": {},
     "output_type": "display_data"
    },
    {
     "name": "stdout",
     "output_type": "stream",
     "text": [
      "Медиана суммы по клеткам: [[ 5823.9175  6168.3853  6703.1274 ...  9563.848   9531.713  99914.01  ]]\n",
      "Среднее значение суммы: 8313.560546875\n",
      "Минимальная сумма: 3374.605224609375, максимальная: 99914.0078125\n"
     ]
    }
   ],
   "source": [
    "adata_lung_copy = adata_lung.copy()\n",
    "adata_lung_copy.X = np.expm1(adata_lung_copy.X)\n",
    "cell_sums = adata_lung_copy.X.sum(axis=1)\n",
    "\n",
    "plt.figure(figsize=(6,4))\n",
    "plt.hist(cell_sums, bins=50, edgecolor='black')\n",
    "plt.xlabel(\"Total expression per cell\")\n",
    "plt.ylabel(\"Number of cells\")\n",
    "plt.title(\"Distribution of total expression per cell\")\n",
    "plt.show()\n",
    "\n",
    "print(f\"Median: {np.median(cell_sums)}\")\n",
    "print(f\"Mean: {np.mean(cell_sums)}\")\n",
    "print(f\"Min: {cell_sums.min()}, Max: {cell_sums.max()}\")"
   ]
  },
  {
   "cell_type": "markdown",
   "metadata": {},
   "source": [
    "### Step 4: Metadata standartization\n",
    "To ensure consistent formatting with other datasets, we standardize the `adata.var` table:\n",
    "- Set the gene names as the index using the `feature_name` column.\n",
    "- Remove all additional columns, keeping only the gene index.\n",
    "\n",
    "This step is crucial for downstream integration with other datasets that follow the same schema.\n",
    "Retain only gene identifiers as the index in `adata.var`, removing all other columns to ensure compatibility with other datasets."
   ]
  },
  {
   "cell_type": "code",
   "execution_count": null,
   "metadata": {},
   "outputs": [
    {
     "data": {
      "text/html": [
       "<div>\n",
       "<style scoped>\n",
       "    .dataframe tbody tr th:only-of-type {\n",
       "        vertical-align: middle;\n",
       "    }\n",
       "\n",
       "    .dataframe tbody tr th {\n",
       "        vertical-align: top;\n",
       "    }\n",
       "\n",
       "    .dataframe thead th {\n",
       "        text-align: right;\n",
       "    }\n",
       "</style>\n",
       "<table border=\"1\" class=\"dataframe\">\n",
       "  <thead>\n",
       "    <tr style=\"text-align: right;\">\n",
       "      <th></th>\n",
       "      <th>feature_is_filtered</th>\n",
       "      <th>feature_name</th>\n",
       "      <th>feature_reference</th>\n",
       "      <th>feature_biotype</th>\n",
       "      <th>feature_length</th>\n",
       "      <th>feature_type</th>\n",
       "    </tr>\n",
       "  </thead>\n",
       "  <tbody>\n",
       "    <tr>\n",
       "      <th>ENSG00000000003</th>\n",
       "      <td>False</td>\n",
       "      <td>TSPAN6</td>\n",
       "      <td>NCBITaxon:9606</td>\n",
       "      <td>gene</td>\n",
       "      <td>2396</td>\n",
       "      <td>protein_coding</td>\n",
       "    </tr>\n",
       "    <tr>\n",
       "      <th>ENSG00000000005</th>\n",
       "      <td>False</td>\n",
       "      <td>TNMD</td>\n",
       "      <td>NCBITaxon:9606</td>\n",
       "      <td>gene</td>\n",
       "      <td>873</td>\n",
       "      <td>protein_coding</td>\n",
       "    </tr>\n",
       "    <tr>\n",
       "      <th>ENSG00000000419</th>\n",
       "      <td>False</td>\n",
       "      <td>DPM1</td>\n",
       "      <td>NCBITaxon:9606</td>\n",
       "      <td>gene</td>\n",
       "      <td>1262</td>\n",
       "      <td>protein_coding</td>\n",
       "    </tr>\n",
       "    <tr>\n",
       "      <th>ENSG00000000457</th>\n",
       "      <td>False</td>\n",
       "      <td>SCYL3</td>\n",
       "      <td>NCBITaxon:9606</td>\n",
       "      <td>gene</td>\n",
       "      <td>2916</td>\n",
       "      <td>protein_coding</td>\n",
       "    </tr>\n",
       "    <tr>\n",
       "      <th>ENSG00000000460</th>\n",
       "      <td>False</td>\n",
       "      <td>C1orf112</td>\n",
       "      <td>NCBITaxon:9606</td>\n",
       "      <td>gene</td>\n",
       "      <td>2661</td>\n",
       "      <td>protein_coding</td>\n",
       "    </tr>\n",
       "  </tbody>\n",
       "</table>\n",
       "</div>"
      ],
      "text/plain": [
       "                 feature_is_filtered feature_name feature_reference  \\\n",
       "ENSG00000000003                False       TSPAN6    NCBITaxon:9606   \n",
       "ENSG00000000005                False         TNMD    NCBITaxon:9606   \n",
       "ENSG00000000419                False         DPM1    NCBITaxon:9606   \n",
       "ENSG00000000457                False        SCYL3    NCBITaxon:9606   \n",
       "ENSG00000000460                False     C1orf112    NCBITaxon:9606   \n",
       "\n",
       "                feature_biotype feature_length    feature_type  \n",
       "ENSG00000000003            gene           2396  protein_coding  \n",
       "ENSG00000000005            gene            873  protein_coding  \n",
       "ENSG00000000419            gene           1262  protein_coding  \n",
       "ENSG00000000457            gene           2916  protein_coding  \n",
       "ENSG00000000460            gene           2661  protein_coding  "
      ]
     },
     "execution_count": 56,
     "metadata": {},
     "output_type": "execute_result"
    }
   ],
   "source": [
    "adata_lung.var.head()"
   ]
  },
  {
   "cell_type": "code",
   "execution_count": null,
   "metadata": {},
   "outputs": [
    {
     "name": "stderr",
     "output_type": "stream",
     "text": [
      "/home/patskanivan/miniconda3/envs/scrna/lib/python3.12/site-packages/anndata/_core/anndata.py:750: UserWarning: \n",
      "AnnData expects .var.index to contain strings, but got values like:\n",
      "    ['TSPAN6', 'TNMD', 'DPM1', 'SCYL3', 'C1orf112']\n",
      "\n",
      "    Inferred to be: categorical\n",
      "\n",
      "  value_idx = self._prep_dim_index(value.index, attr)\n"
     ]
    }
   ],
   "source": [
    "adata_lung.var.index = adata_lung.var[\"feature_name\"]\n",
    "\n",
    "adata_lung.var = adata_lung.var[[]]"
   ]
  },
  {
   "cell_type": "code",
   "execution_count": 70,
   "metadata": {},
   "outputs": [
    {
     "data": {
      "text/html": [
       "<div>\n",
       "<style scoped>\n",
       "    .dataframe tbody tr th:only-of-type {\n",
       "        vertical-align: middle;\n",
       "    }\n",
       "\n",
       "    .dataframe tbody tr th {\n",
       "        vertical-align: top;\n",
       "    }\n",
       "\n",
       "    .dataframe thead th {\n",
       "        text-align: right;\n",
       "    }\n",
       "</style>\n",
       "<table border=\"1\" class=\"dataframe\">\n",
       "  <thead>\n",
       "    <tr style=\"text-align: right;\">\n",
       "      <th></th>\n",
       "    </tr>\n",
       "    <tr>\n",
       "      <th>feature_name</th>\n",
       "    </tr>\n",
       "  </thead>\n",
       "  <tbody>\n",
       "    <tr>\n",
       "      <th>TSPAN6</th>\n",
       "    </tr>\n",
       "    <tr>\n",
       "      <th>TNMD</th>\n",
       "    </tr>\n",
       "    <tr>\n",
       "      <th>DPM1</th>\n",
       "    </tr>\n",
       "    <tr>\n",
       "      <th>SCYL3</th>\n",
       "    </tr>\n",
       "    <tr>\n",
       "      <th>C1orf112</th>\n",
       "    </tr>\n",
       "    <tr>\n",
       "      <th>...</th>\n",
       "    </tr>\n",
       "    <tr>\n",
       "      <th>ENSG00000283078.1</th>\n",
       "    </tr>\n",
       "    <tr>\n",
       "      <th>ENSG00000283103.5</th>\n",
       "    </tr>\n",
       "    <tr>\n",
       "      <th>MGC4859</th>\n",
       "    </tr>\n",
       "    <tr>\n",
       "      <th>ENSG00000283118.1</th>\n",
       "    </tr>\n",
       "    <tr>\n",
       "      <th>ENSG00000283125.1</th>\n",
       "    </tr>\n",
       "  </tbody>\n",
       "</table>\n",
       "<p>27957 rows × 0 columns</p>\n",
       "</div>"
      ],
      "text/plain": [
       "Empty DataFrame\n",
       "Columns: []\n",
       "Index: [TSPAN6, TNMD, DPM1, SCYL3, C1orf112, FGR, CFH, FUCA2, GCLC, NFYA, STPG1, NIPAL3, LAS1L, ENPP4, SEMA3F, CFTR, ANKIB1, CYP51A1, KRIT1, RAD52, BAD, LAP3, CD99_ENSG00000002586, HS3ST1, AOC1, WNT16, HECW1, MAD1L1, LASP1, SNX11, TMEM176A, M6PR, KLHL13, CYP26B1, ICA1, DBNDD1, ALS2, CASP10, CFLAR, TFPI, NDUFAF7, RBM5, MTMR7, SLC7A2, ARF5, SARM1, POLDIP2, PLXND1, AK2, CD38, FKBP4, KDM1A, RBM6, CAMKK1, RECQL, VPS50, HSPB6, ARHGAP33, NDUFAB1, PDK4, SLC22A16, ZMYND10, ABCB5, ARX, SLC25A13, ST7, CDC27, SLC4A1, CALCR, HCCS, DVL2, PRSS22, UPF1, SKAP2, SLC25A5, MCUB, HOXA11, POLR2J, DHX33, MEOX1, THSD7A, LIG3, RPAP3, ACSM3, REXO5, CIAPIN1, SPPL2B, ATOSB, COPZ2, PRKAR2B, MSL3, CREBBP, TSPOAP1, MPO, PON1, GCFC2, WDR54, CROT, ABCB4, KMT2E, ...]\n",
       "\n",
       "[27957 rows x 0 columns]"
      ]
     },
     "execution_count": 70,
     "metadata": {},
     "output_type": "execute_result"
    }
   ],
   "source": [
    "adata_lung.var"
   ]
  },
  {
   "cell_type": "markdown",
   "metadata": {},
   "source": [
    "### Step 5: Inspect and Select Relevant Cell Metadata\n",
    "To harmonize this dataset with others, we retain a core set of metadata fields:\n",
    "- `donor_id`: identifies individual donors\n",
    "- `cell_type`: assigned cell identity\n",
    "- `study`: used as a batch indicator in some datasets\n",
    "\n",
    "We also inspect values in the `disease`, `sample`, and `study` columns to verify the dataset contains only healthy samples and to estimate sample/batch structure.\n",
    "Review metadata fields and retain only those required for downstream integration: `donor_id`, `cell_type`, and `study`."
   ]
  },
  {
   "cell_type": "code",
   "execution_count": 71,
   "metadata": {},
   "outputs": [
    {
     "data": {
      "text/html": [
       "<div>\n",
       "<style scoped>\n",
       "    .dataframe tbody tr th:only-of-type {\n",
       "        vertical-align: middle;\n",
       "    }\n",
       "\n",
       "    .dataframe tbody tr th {\n",
       "        vertical-align: top;\n",
       "    }\n",
       "\n",
       "    .dataframe thead th {\n",
       "        text-align: right;\n",
       "    }\n",
       "</style>\n",
       "<table border=\"1\" class=\"dataframe\">\n",
       "  <thead>\n",
       "    <tr style=\"text-align: right;\">\n",
       "      <th></th>\n",
       "      <th>log10_total_counts</th>\n",
       "      <th>sample</th>\n",
       "      <th>study</th>\n",
       "      <th>tissue_type</th>\n",
       "      <th>cell_type</th>\n",
       "      <th>tissue</th>\n",
       "      <th>development_stage</th>\n",
       "      <th>disease</th>\n",
       "    </tr>\n",
       "  </thead>\n",
       "  <tbody>\n",
       "    <tr>\n",
       "      <th>GCTCTGTAGTGCTGCC_SC27</th>\n",
       "      <td>3.493458</td>\n",
       "      <td>SC27</td>\n",
       "      <td>Misharin_Budinger_2018</td>\n",
       "      <td>tissue</td>\n",
       "      <td>pulmonary alveolar type 2 cell</td>\n",
       "      <td>lung parenchyma</td>\n",
       "      <td>47-year-old stage</td>\n",
       "      <td>normal</td>\n",
       "    </tr>\n",
       "    <tr>\n",
       "      <th>CTTGATTGTCAGTTTG_T164</th>\n",
       "      <td>4.733551</td>\n",
       "      <td>T164</td>\n",
       "      <td>Seibold_2020</td>\n",
       "      <td>tissue</td>\n",
       "      <td>respiratory basal cell</td>\n",
       "      <td>respiratory airway</td>\n",
       "      <td>66-year-old stage</td>\n",
       "      <td>normal</td>\n",
       "    </tr>\n",
       "    <tr>\n",
       "      <th>P3_3_CCACTACTCATTGCGA</th>\n",
       "      <td>3.871865</td>\n",
       "      <td>proximal 3</td>\n",
       "      <td>Krasnow_2020</td>\n",
       "      <td>tissue</td>\n",
       "      <td>respiratory basal cell</td>\n",
       "      <td>respiratory airway</td>\n",
       "      <td>51-year-old stage</td>\n",
       "      <td>normal</td>\n",
       "    </tr>\n",
       "    <tr>\n",
       "      <th>GGGAAGTAGCAGCGAT_T165</th>\n",
       "      <td>4.451587</td>\n",
       "      <td>T165</td>\n",
       "      <td>Seibold_2020</td>\n",
       "      <td>tissue</td>\n",
       "      <td>respiratory basal cell</td>\n",
       "      <td>respiratory airway</td>\n",
       "      <td>64-year-old stage</td>\n",
       "      <td>normal</td>\n",
       "    </tr>\n",
       "    <tr>\n",
       "      <th>TAAGTGCCACTGTTAG_T121</th>\n",
       "      <td>4.154850</td>\n",
       "      <td>T121</td>\n",
       "      <td>Seibold_2020</td>\n",
       "      <td>tissue</td>\n",
       "      <td>respiratory basal cell</td>\n",
       "      <td>respiratory airway</td>\n",
       "      <td>23-year-old stage</td>\n",
       "      <td>normal</td>\n",
       "    </tr>\n",
       "    <tr>\n",
       "      <th>...</th>\n",
       "      <td>...</td>\n",
       "      <td>...</td>\n",
       "      <td>...</td>\n",
       "      <td>...</td>\n",
       "      <td>...</td>\n",
       "      <td>...</td>\n",
       "      <td>...</td>\n",
       "      <td>...</td>\n",
       "    </tr>\n",
       "    <tr>\n",
       "      <th>TTCTACACATACTACG_T85</th>\n",
       "      <td>4.052925</td>\n",
       "      <td>T85</td>\n",
       "      <td>Seibold_2020</td>\n",
       "      <td>tissue</td>\n",
       "      <td>respiratory hillock cell</td>\n",
       "      <td>respiratory airway</td>\n",
       "      <td>59-year-old stage</td>\n",
       "      <td>normal</td>\n",
       "    </tr>\n",
       "    <tr>\n",
       "      <th>ACCTTTACATTAACCG_T120</th>\n",
       "      <td>4.184152</td>\n",
       "      <td>T120</td>\n",
       "      <td>Seibold_2020</td>\n",
       "      <td>tissue</td>\n",
       "      <td>respiratory basal cell</td>\n",
       "      <td>respiratory airway</td>\n",
       "      <td>57-year-old stage</td>\n",
       "      <td>normal</td>\n",
       "    </tr>\n",
       "    <tr>\n",
       "      <th>AGGCCGTGTGTGACCC-SC56</th>\n",
       "      <td>4.076422</td>\n",
       "      <td>SC56</td>\n",
       "      <td>Lafyatis_Rojas_2019</td>\n",
       "      <td>tissue</td>\n",
       "      <td>pulmonary alveolar type 2 cell</td>\n",
       "      <td>lung parenchyma</td>\n",
       "      <td>57-year-old stage</td>\n",
       "      <td>normal</td>\n",
       "    </tr>\n",
       "    <tr>\n",
       "      <th>CGATGGCAGCAGGCTA-1-2</th>\n",
       "      <td>3.653309</td>\n",
       "      <td>SC174_SC173</td>\n",
       "      <td>Jain_Misharin_2021</td>\n",
       "      <td>tissue</td>\n",
       "      <td>club cell</td>\n",
       "      <td>nose</td>\n",
       "      <td>41-year-old stage</td>\n",
       "      <td>normal</td>\n",
       "    </tr>\n",
       "    <tr>\n",
       "      <th>AATCGGTGTCGGCACT-1-4</th>\n",
       "      <td>3.176959</td>\n",
       "      <td>SC182</td>\n",
       "      <td>Jain_Misharin_2021</td>\n",
       "      <td>tissue</td>\n",
       "      <td>club cell</td>\n",
       "      <td>nose</td>\n",
       "      <td>27-year-old stage</td>\n",
       "      <td>normal</td>\n",
       "    </tr>\n",
       "  </tbody>\n",
       "</table>\n",
       "<p>282295 rows × 8 columns</p>\n",
       "</div>"
      ],
      "text/plain": [
       "                       log10_total_counts       sample  \\\n",
       "GCTCTGTAGTGCTGCC_SC27            3.493458         SC27   \n",
       "CTTGATTGTCAGTTTG_T164            4.733551         T164   \n",
       "P3_3_CCACTACTCATTGCGA            3.871865   proximal 3   \n",
       "GGGAAGTAGCAGCGAT_T165            4.451587         T165   \n",
       "TAAGTGCCACTGTTAG_T121            4.154850         T121   \n",
       "...                                   ...          ...   \n",
       "TTCTACACATACTACG_T85             4.052925          T85   \n",
       "ACCTTTACATTAACCG_T120            4.184152         T120   \n",
       "AGGCCGTGTGTGACCC-SC56            4.076422         SC56   \n",
       "CGATGGCAGCAGGCTA-1-2             3.653309  SC174_SC173   \n",
       "AATCGGTGTCGGCACT-1-4             3.176959        SC182   \n",
       "\n",
       "                                        study tissue_type  \\\n",
       "GCTCTGTAGTGCTGCC_SC27  Misharin_Budinger_2018      tissue   \n",
       "CTTGATTGTCAGTTTG_T164            Seibold_2020      tissue   \n",
       "P3_3_CCACTACTCATTGCGA            Krasnow_2020      tissue   \n",
       "GGGAAGTAGCAGCGAT_T165            Seibold_2020      tissue   \n",
       "TAAGTGCCACTGTTAG_T121            Seibold_2020      tissue   \n",
       "...                                       ...         ...   \n",
       "TTCTACACATACTACG_T85             Seibold_2020      tissue   \n",
       "ACCTTTACATTAACCG_T120            Seibold_2020      tissue   \n",
       "AGGCCGTGTGTGACCC-SC56     Lafyatis_Rojas_2019      tissue   \n",
       "CGATGGCAGCAGGCTA-1-2       Jain_Misharin_2021      tissue   \n",
       "AATCGGTGTCGGCACT-1-4       Jain_Misharin_2021      tissue   \n",
       "\n",
       "                                            cell_type              tissue  \\\n",
       "GCTCTGTAGTGCTGCC_SC27  pulmonary alveolar type 2 cell     lung parenchyma   \n",
       "CTTGATTGTCAGTTTG_T164          respiratory basal cell  respiratory airway   \n",
       "P3_3_CCACTACTCATTGCGA          respiratory basal cell  respiratory airway   \n",
       "GGGAAGTAGCAGCGAT_T165          respiratory basal cell  respiratory airway   \n",
       "TAAGTGCCACTGTTAG_T121          respiratory basal cell  respiratory airway   \n",
       "...                                               ...                 ...   \n",
       "TTCTACACATACTACG_T85         respiratory hillock cell  respiratory airway   \n",
       "ACCTTTACATTAACCG_T120          respiratory basal cell  respiratory airway   \n",
       "AGGCCGTGTGTGACCC-SC56  pulmonary alveolar type 2 cell     lung parenchyma   \n",
       "CGATGGCAGCAGGCTA-1-2                        club cell                nose   \n",
       "AATCGGTGTCGGCACT-1-4                        club cell                nose   \n",
       "\n",
       "                       development_stage disease  \n",
       "GCTCTGTAGTGCTGCC_SC27  47-year-old stage  normal  \n",
       "CTTGATTGTCAGTTTG_T164  66-year-old stage  normal  \n",
       "P3_3_CCACTACTCATTGCGA  51-year-old stage  normal  \n",
       "GGGAAGTAGCAGCGAT_T165  64-year-old stage  normal  \n",
       "TAAGTGCCACTGTTAG_T121  23-year-old stage  normal  \n",
       "...                                  ...     ...  \n",
       "TTCTACACATACTACG_T85   59-year-old stage  normal  \n",
       "ACCTTTACATTAACCG_T120  57-year-old stage  normal  \n",
       "AGGCCGTGTGTGACCC-SC56  57-year-old stage  normal  \n",
       "CGATGGCAGCAGGCTA-1-2   41-year-old stage  normal  \n",
       "AATCGGTGTCGGCACT-1-4   27-year-old stage  normal  \n",
       "\n",
       "[282295 rows x 8 columns]"
      ]
     },
     "execution_count": 71,
     "metadata": {},
     "output_type": "execute_result"
    }
   ],
   "source": [
    "adata_lung.obs[[\"log10_total_counts\", \"sample\", 'study', 'tissue_type', 'cell_type', 'tissue', 'development_stage', 'disease']]"
   ]
  },
  {
   "cell_type": "code",
   "execution_count": null,
   "metadata": {},
   "outputs": [
    {
     "data": {
      "text/plain": [
       "['normal']\n",
       "Categories (1, object): ['normal']"
      ]
     },
     "execution_count": 72,
     "metadata": {},
     "output_type": "execute_result"
    }
   ],
   "source": [
    "adata_lung.obs[\"disease\"].unique()"
   ]
  },
  {
   "cell_type": "code",
   "execution_count": null,
   "metadata": {},
   "outputs": [
    {
     "data": {
      "text/plain": [
       "['SC27', 'T164', 'proximal 3', 'T165', 'T121', ..., 'SC86', 'SC14', 'F01513', 'F01506', '7119453']\n",
       "Length: 164\n",
       "Categories (164, object): ['356C_0h', '356C_12h', '356C_24h', '356C_72h', ..., 'distal 2', 'distal 3', 'medial 2', 'proximal 3']"
      ]
     },
     "execution_count": 73,
     "metadata": {},
     "output_type": "execute_result"
    }
   ],
   "source": [
    "adata_lung.obs[\"sample\"].unique() # 164"
   ]
  },
  {
   "cell_type": "code",
   "execution_count": null,
   "metadata": {},
   "outputs": [
    {
     "data": {
      "text/plain": [
       "['Misharin_Budinger_2018', 'Seibold_2020', 'Krasnow_2020', 'Nawijn_2021', 'Misharin_2021', ..., 'Barbry_Leroy_2020', 'Banovich_Kropski_2020', 'Jain_Misharin_2021', 'Meyer_2019', 'Teichmann_Meyer_2019']\n",
       "Length: 11\n",
       "Categories (11, object): ['Banovich_Kropski_2020', 'Barbry_Leroy_2020', 'Jain_Misharin_2021', 'Krasnow_2020', ..., 'Misharin_Budinger_2018', 'Nawijn_2021', 'Seibold_2020', 'Teichmann_Meyer_2019']"
      ]
     },
     "execution_count": 74,
     "metadata": {},
     "output_type": "execute_result"
    }
   ],
   "source": [
    "adata_lung.obs[\"study\"].unique() # 11"
   ]
  },
  {
   "cell_type": "markdown",
   "metadata": {},
   "source": [
    "### Step 6: Reformat and Expand Metadata Columns\n",
    "Create a reduced version of the dataset with harmonized metadata fields across multiple datasets."
   ]
  },
  {
   "cell_type": "code",
   "execution_count": null,
   "metadata": {},
   "outputs": [],
   "source": [
    "required_columns = ['donor_id', 'cell_type', 'study']\n",
    "adata_lung_reduced = adata_lung.copy()\n",
    "adata_lung_reduced.obs = adata_lung_reduced.obs[required_columns]"
   ]
  },
  {
   "cell_type": "code",
   "execution_count": null,
   "metadata": {},
   "outputs": [],
   "source": [
    "obs_df = pd.DataFrame(adata_lung_reduced.obs)\n",
    "\n",
    "# Create new columns\n",
    "obs_df['Dataset'] = 'LUNG_HCA_filtered_epithelial'\n",
    "obs_df['Organ_origin'] = 'Lung'\n",
    "obs_df['Sample'] = obs_df['study']\n",
    "obs_df['Patient'] = obs_df['donor_id']\n",
    "obs_df['Tissue'] = \"Normal\"\n",
    "obs_df['Cancer type'] = 'Lung Normal'\n",
    "obs_df['cnv_status'] = 'normal'\n",
    "obs_df['Celltype'] = obs_df['cell_type']"
   ]
  },
  {
   "cell_type": "code",
   "execution_count": 84,
   "metadata": {},
   "outputs": [],
   "source": [
    "adata_lung_reduced.obs = obs_df"
   ]
  },
  {
   "cell_type": "markdown",
   "metadata": {},
   "source": [
    "Reorder the metadata fields and remove unnecessary data slots (`obsm`, `obsp`, `uns`) to ensure consistency."
   ]
  },
  {
   "cell_type": "code",
   "execution_count": null,
   "metadata": {},
   "outputs": [
    {
     "data": {
      "text/html": [
       "<div>\n",
       "<style scoped>\n",
       "    .dataframe tbody tr th:only-of-type {\n",
       "        vertical-align: middle;\n",
       "    }\n",
       "\n",
       "    .dataframe tbody tr th {\n",
       "        vertical-align: top;\n",
       "    }\n",
       "\n",
       "    .dataframe thead th {\n",
       "        text-align: right;\n",
       "    }\n",
       "</style>\n",
       "<table border=\"1\" class=\"dataframe\">\n",
       "  <thead>\n",
       "    <tr style=\"text-align: right;\">\n",
       "      <th></th>\n",
       "      <th>Dataset</th>\n",
       "      <th>Organ_origin</th>\n",
       "      <th>Sample</th>\n",
       "      <th>Patient</th>\n",
       "      <th>Tissue</th>\n",
       "      <th>Cancer type</th>\n",
       "      <th>cnv_status</th>\n",
       "      <th>Celltype</th>\n",
       "    </tr>\n",
       "  </thead>\n",
       "  <tbody>\n",
       "    <tr>\n",
       "      <th>GCTCTGTAGTGCTGCC_SC27</th>\n",
       "      <td>LUNG_HCA_filtered_epithelial</td>\n",
       "      <td>Lung</td>\n",
       "      <td>Misharin_Budinger_2018</td>\n",
       "      <td>homosapiens_None_2023_None_sikkemalisa_001_d10...</td>\n",
       "      <td>Normal</td>\n",
       "      <td>Lung Normal</td>\n",
       "      <td>normal</td>\n",
       "      <td>pulmonary alveolar type 2 cell</td>\n",
       "    </tr>\n",
       "    <tr>\n",
       "      <th>CTTGATTGTCAGTTTG_T164</th>\n",
       "      <td>LUNG_HCA_filtered_epithelial</td>\n",
       "      <td>Lung</td>\n",
       "      <td>Seibold_2020</td>\n",
       "      <td>homosapiens_None_2023_None_sikkemalisa_001_d10...</td>\n",
       "      <td>Normal</td>\n",
       "      <td>Lung Normal</td>\n",
       "      <td>normal</td>\n",
       "      <td>respiratory basal cell</td>\n",
       "    </tr>\n",
       "    <tr>\n",
       "      <th>P3_3_CCACTACTCATTGCGA</th>\n",
       "      <td>LUNG_HCA_filtered_epithelial</td>\n",
       "      <td>Lung</td>\n",
       "      <td>Krasnow_2020</td>\n",
       "      <td>homosapiens_None_2023_None_sikkemalisa_001_d10...</td>\n",
       "      <td>Normal</td>\n",
       "      <td>Lung Normal</td>\n",
       "      <td>normal</td>\n",
       "      <td>respiratory basal cell</td>\n",
       "    </tr>\n",
       "    <tr>\n",
       "      <th>GGGAAGTAGCAGCGAT_T165</th>\n",
       "      <td>LUNG_HCA_filtered_epithelial</td>\n",
       "      <td>Lung</td>\n",
       "      <td>Seibold_2020</td>\n",
       "      <td>homosapiens_None_2023_None_sikkemalisa_001_d10...</td>\n",
       "      <td>Normal</td>\n",
       "      <td>Lung Normal</td>\n",
       "      <td>normal</td>\n",
       "      <td>respiratory basal cell</td>\n",
       "    </tr>\n",
       "    <tr>\n",
       "      <th>TAAGTGCCACTGTTAG_T121</th>\n",
       "      <td>LUNG_HCA_filtered_epithelial</td>\n",
       "      <td>Lung</td>\n",
       "      <td>Seibold_2020</td>\n",
       "      <td>homosapiens_None_2023_None_sikkemalisa_001_d10...</td>\n",
       "      <td>Normal</td>\n",
       "      <td>Lung Normal</td>\n",
       "      <td>normal</td>\n",
       "      <td>respiratory basal cell</td>\n",
       "    </tr>\n",
       "    <tr>\n",
       "      <th>...</th>\n",
       "      <td>...</td>\n",
       "      <td>...</td>\n",
       "      <td>...</td>\n",
       "      <td>...</td>\n",
       "      <td>...</td>\n",
       "      <td>...</td>\n",
       "      <td>...</td>\n",
       "      <td>...</td>\n",
       "    </tr>\n",
       "    <tr>\n",
       "      <th>TTCTACACATACTACG_T85</th>\n",
       "      <td>LUNG_HCA_filtered_epithelial</td>\n",
       "      <td>Lung</td>\n",
       "      <td>Seibold_2020</td>\n",
       "      <td>homosapiens_None_2023_None_sikkemalisa_001_d10...</td>\n",
       "      <td>Normal</td>\n",
       "      <td>Lung Normal</td>\n",
       "      <td>normal</td>\n",
       "      <td>respiratory hillock cell</td>\n",
       "    </tr>\n",
       "    <tr>\n",
       "      <th>ACCTTTACATTAACCG_T120</th>\n",
       "      <td>LUNG_HCA_filtered_epithelial</td>\n",
       "      <td>Lung</td>\n",
       "      <td>Seibold_2020</td>\n",
       "      <td>homosapiens_None_2023_None_sikkemalisa_001_d10...</td>\n",
       "      <td>Normal</td>\n",
       "      <td>Lung Normal</td>\n",
       "      <td>normal</td>\n",
       "      <td>respiratory basal cell</td>\n",
       "    </tr>\n",
       "    <tr>\n",
       "      <th>AGGCCGTGTGTGACCC-SC56</th>\n",
       "      <td>LUNG_HCA_filtered_epithelial</td>\n",
       "      <td>Lung</td>\n",
       "      <td>Lafyatis_Rojas_2019</td>\n",
       "      <td>homosapiens_None_2023_None_sikkemalisa_001_d10...</td>\n",
       "      <td>Normal</td>\n",
       "      <td>Lung Normal</td>\n",
       "      <td>normal</td>\n",
       "      <td>pulmonary alveolar type 2 cell</td>\n",
       "    </tr>\n",
       "    <tr>\n",
       "      <th>CGATGGCAGCAGGCTA-1-2</th>\n",
       "      <td>LUNG_HCA_filtered_epithelial</td>\n",
       "      <td>Lung</td>\n",
       "      <td>Jain_Misharin_2021</td>\n",
       "      <td>homosapiens_None_2023_None_sikkemalisa_001_d10...</td>\n",
       "      <td>Normal</td>\n",
       "      <td>Lung Normal</td>\n",
       "      <td>normal</td>\n",
       "      <td>club cell</td>\n",
       "    </tr>\n",
       "    <tr>\n",
       "      <th>AATCGGTGTCGGCACT-1-4</th>\n",
       "      <td>LUNG_HCA_filtered_epithelial</td>\n",
       "      <td>Lung</td>\n",
       "      <td>Jain_Misharin_2021</td>\n",
       "      <td>homosapiens_None_2023_None_sikkemalisa_001_d10...</td>\n",
       "      <td>Normal</td>\n",
       "      <td>Lung Normal</td>\n",
       "      <td>normal</td>\n",
       "      <td>club cell</td>\n",
       "    </tr>\n",
       "  </tbody>\n",
       "</table>\n",
       "<p>282295 rows × 8 columns</p>\n",
       "</div>"
      ],
      "text/plain": [
       "                                            Dataset Organ_origin  \\\n",
       "GCTCTGTAGTGCTGCC_SC27  LUNG_HCA_filtered_epithelial         Lung   \n",
       "CTTGATTGTCAGTTTG_T164  LUNG_HCA_filtered_epithelial         Lung   \n",
       "P3_3_CCACTACTCATTGCGA  LUNG_HCA_filtered_epithelial         Lung   \n",
       "GGGAAGTAGCAGCGAT_T165  LUNG_HCA_filtered_epithelial         Lung   \n",
       "TAAGTGCCACTGTTAG_T121  LUNG_HCA_filtered_epithelial         Lung   \n",
       "...                                             ...          ...   \n",
       "TTCTACACATACTACG_T85   LUNG_HCA_filtered_epithelial         Lung   \n",
       "ACCTTTACATTAACCG_T120  LUNG_HCA_filtered_epithelial         Lung   \n",
       "AGGCCGTGTGTGACCC-SC56  LUNG_HCA_filtered_epithelial         Lung   \n",
       "CGATGGCAGCAGGCTA-1-2   LUNG_HCA_filtered_epithelial         Lung   \n",
       "AATCGGTGTCGGCACT-1-4   LUNG_HCA_filtered_epithelial         Lung   \n",
       "\n",
       "                                       Sample  \\\n",
       "GCTCTGTAGTGCTGCC_SC27  Misharin_Budinger_2018   \n",
       "CTTGATTGTCAGTTTG_T164            Seibold_2020   \n",
       "P3_3_CCACTACTCATTGCGA            Krasnow_2020   \n",
       "GGGAAGTAGCAGCGAT_T165            Seibold_2020   \n",
       "TAAGTGCCACTGTTAG_T121            Seibold_2020   \n",
       "...                                       ...   \n",
       "TTCTACACATACTACG_T85             Seibold_2020   \n",
       "ACCTTTACATTAACCG_T120            Seibold_2020   \n",
       "AGGCCGTGTGTGACCC-SC56     Lafyatis_Rojas_2019   \n",
       "CGATGGCAGCAGGCTA-1-2       Jain_Misharin_2021   \n",
       "AATCGGTGTCGGCACT-1-4       Jain_Misharin_2021   \n",
       "\n",
       "                                                                 Patient  \\\n",
       "GCTCTGTAGTGCTGCC_SC27  homosapiens_None_2023_None_sikkemalisa_001_d10...   \n",
       "CTTGATTGTCAGTTTG_T164  homosapiens_None_2023_None_sikkemalisa_001_d10...   \n",
       "P3_3_CCACTACTCATTGCGA  homosapiens_None_2023_None_sikkemalisa_001_d10...   \n",
       "GGGAAGTAGCAGCGAT_T165  homosapiens_None_2023_None_sikkemalisa_001_d10...   \n",
       "TAAGTGCCACTGTTAG_T121  homosapiens_None_2023_None_sikkemalisa_001_d10...   \n",
       "...                                                                  ...   \n",
       "TTCTACACATACTACG_T85   homosapiens_None_2023_None_sikkemalisa_001_d10...   \n",
       "ACCTTTACATTAACCG_T120  homosapiens_None_2023_None_sikkemalisa_001_d10...   \n",
       "AGGCCGTGTGTGACCC-SC56  homosapiens_None_2023_None_sikkemalisa_001_d10...   \n",
       "CGATGGCAGCAGGCTA-1-2   homosapiens_None_2023_None_sikkemalisa_001_d10...   \n",
       "AATCGGTGTCGGCACT-1-4   homosapiens_None_2023_None_sikkemalisa_001_d10...   \n",
       "\n",
       "                       Tissue  Cancer type cnv_status  \\\n",
       "GCTCTGTAGTGCTGCC_SC27  Normal  Lung Normal     normal   \n",
       "CTTGATTGTCAGTTTG_T164  Normal  Lung Normal     normal   \n",
       "P3_3_CCACTACTCATTGCGA  Normal  Lung Normal     normal   \n",
       "GGGAAGTAGCAGCGAT_T165  Normal  Lung Normal     normal   \n",
       "TAAGTGCCACTGTTAG_T121  Normal  Lung Normal     normal   \n",
       "...                       ...          ...        ...   \n",
       "TTCTACACATACTACG_T85   Normal  Lung Normal     normal   \n",
       "ACCTTTACATTAACCG_T120  Normal  Lung Normal     normal   \n",
       "AGGCCGTGTGTGACCC-SC56  Normal  Lung Normal     normal   \n",
       "CGATGGCAGCAGGCTA-1-2   Normal  Lung Normal     normal   \n",
       "AATCGGTGTCGGCACT-1-4   Normal  Lung Normal     normal   \n",
       "\n",
       "                                             Celltype  \n",
       "GCTCTGTAGTGCTGCC_SC27  pulmonary alveolar type 2 cell  \n",
       "CTTGATTGTCAGTTTG_T164          respiratory basal cell  \n",
       "P3_3_CCACTACTCATTGCGA          respiratory basal cell  \n",
       "GGGAAGTAGCAGCGAT_T165          respiratory basal cell  \n",
       "TAAGTGCCACTGTTAG_T121          respiratory basal cell  \n",
       "...                                               ...  \n",
       "TTCTACACATACTACG_T85         respiratory hillock cell  \n",
       "ACCTTTACATTAACCG_T120          respiratory basal cell  \n",
       "AGGCCGTGTGTGACCC-SC56  pulmonary alveolar type 2 cell  \n",
       "CGATGGCAGCAGGCTA-1-2                        club cell  \n",
       "AATCGGTGTCGGCACT-1-4                        club cell  \n",
       "\n",
       "[282295 rows x 8 columns]"
      ]
     },
     "execution_count": 88,
     "metadata": {},
     "output_type": "execute_result"
    }
   ],
   "source": [
    "desired_order = ['Dataset', 'Organ_origin', 'Sample', 'Patient', 'Tissue', 'Cancer type', 'cnv_status', 'Celltype']\n",
    "adata_lung_reduced.obs = adata_lung_reduced.obs[desired_order]\n",
    "adata_lung_reduced.obs"
   ]
  },
  {
   "cell_type": "code",
   "execution_count": null,
   "metadata": {},
   "outputs": [],
   "source": [
    "adata_lung_reduced.obsm.clear()\n",
    "adata_lung_reduced.obsp.clear()\n",
    "adata_lung_reduced.uns.clear()"
   ]
  },
  {
   "cell_type": "code",
   "execution_count": 105,
   "metadata": {},
   "outputs": [
    {
     "data": {
      "text/plain": [
       "(282295, 27957)"
      ]
     },
     "execution_count": 105,
     "metadata": {},
     "output_type": "execute_result"
    }
   ],
   "source": [
    "adata_lung_reduced.shape"
   ]
  },
  {
   "cell_type": "code",
   "execution_count": null,
   "metadata": {},
   "outputs": [
    {
     "name": "stderr",
     "output_type": "stream",
     "text": [
      "/home/patskanivan/miniconda3/envs/scrna/lib/python3.12/site-packages/anndata/_core/anndata.py:1146: SettingWithCopyWarning: \n",
      "A value is trying to be set on a copy of a slice from a DataFrame.\n",
      "Try using .loc[row_indexer,col_indexer] = value instead\n",
      "\n",
      "See the caveats in the documentation: https://pandas.pydata.org/pandas-docs/stable/user_guide/indexing.html#returning-a-view-versus-a-copy\n",
      "  df[key] = c\n",
      "... storing 'Dataset' as categorical\n",
      "/home/patskanivan/miniconda3/envs/scrna/lib/python3.12/site-packages/anndata/_core/anndata.py:1146: SettingWithCopyWarning: \n",
      "A value is trying to be set on a copy of a slice from a DataFrame.\n",
      "Try using .loc[row_indexer,col_indexer] = value instead\n",
      "\n",
      "See the caveats in the documentation: https://pandas.pydata.org/pandas-docs/stable/user_guide/indexing.html#returning-a-view-versus-a-copy\n",
      "  df[key] = c\n",
      "... storing 'Organ_origin' as categorical\n",
      "/home/patskanivan/miniconda3/envs/scrna/lib/python3.12/site-packages/anndata/_core/anndata.py:1146: SettingWithCopyWarning: \n",
      "A value is trying to be set on a copy of a slice from a DataFrame.\n",
      "Try using .loc[row_indexer,col_indexer] = value instead\n",
      "\n",
      "See the caveats in the documentation: https://pandas.pydata.org/pandas-docs/stable/user_guide/indexing.html#returning-a-view-versus-a-copy\n",
      "  df[key] = c\n",
      "... storing 'Tissue' as categorical\n",
      "/home/patskanivan/miniconda3/envs/scrna/lib/python3.12/site-packages/anndata/_core/anndata.py:1146: SettingWithCopyWarning: \n",
      "A value is trying to be set on a copy of a slice from a DataFrame.\n",
      "Try using .loc[row_indexer,col_indexer] = value instead\n",
      "\n",
      "See the caveats in the documentation: https://pandas.pydata.org/pandas-docs/stable/user_guide/indexing.html#returning-a-view-versus-a-copy\n",
      "  df[key] = c\n",
      "... storing 'Cancer type' as categorical\n",
      "/home/patskanivan/miniconda3/envs/scrna/lib/python3.12/site-packages/anndata/_core/anndata.py:1146: SettingWithCopyWarning: \n",
      "A value is trying to be set on a copy of a slice from a DataFrame.\n",
      "Try using .loc[row_indexer,col_indexer] = value instead\n",
      "\n",
      "See the caveats in the documentation: https://pandas.pydata.org/pandas-docs/stable/user_guide/indexing.html#returning-a-view-versus-a-copy\n",
      "  df[key] = c\n",
      "... storing 'cnv_status' as categorical\n"
     ]
    }
   ],
   "source": [
    "# Save the cleaned and formatted dataset to a new `.h5ad`\n",
    "adata_lung_reduced.write(\"data/normal/Lung_normal_ew_filtered.h5ad\")"
   ]
  }
 ],
 "metadata": {
  "kernelspec": {
   "display_name": "scrna",
   "language": "python",
   "name": "python3"
  },
  "language_info": {
   "codemirror_mode": {
    "name": "ipython",
    "version": 3
   },
   "file_extension": ".py",
   "mimetype": "text/x-python",
   "name": "python",
   "nbconvert_exporter": "python",
   "pygments_lexer": "ipython3",
   "version": "3.12.2"
  }
 },
 "nbformat": 4,
 "nbformat_minor": 2
}
